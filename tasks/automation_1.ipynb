{
  "nbformat": 4,
  "nbformat_minor": 0,
  "metadata": {
    "colab": {
      "provenance": []
    },
    "kernelspec": {
      "name": "python3",
      "display_name": "Python 3"
    },
    "language_info": {
      "name": "python"
    }
  },
  "cells": [
    {
      "cell_type": "markdown",
      "source": [
        "# Automation System Task Part 1\n",
        "# Wildan Aziz Hidayat - Automation System C\n",
        "---\n",
        "\n",
        "1. Mathematical Model of DC Motor (Mechanical and Electrical Equations)\n",
        "2. Laplace Transform on DC Motor  \n",
        "3. Transfer Function  the Relationship Between  Angular Velocity ($\\omega$) and Voltage (V)"
      ],
      "metadata": {
        "id": "VL-aIglqb5W6"
      }
    },
    {
      "cell_type": "markdown",
      "source": [
        "# Make a Laplace Transform Equation\n",
        "\n",
        "1. Firstly, we must import library from sympy and display to easily on working process\n",
        "2. Secondly, define a variable contains symbolic variable"
      ],
      "metadata": {
        "id": "eDdaYWdUdwtu"
      }
    },
    {
      "cell_type": "code",
      "source": [
        "import sympy as sp\n",
        "from sympy import init_printing, Eq, symbols, solve, simplify\n",
        "from IPython.display import display\n",
        "\n",
        "# for good display output\n",
        "init_printing()\n",
        "\n",
        "# Define symbolic variable\n",
        "t, s = symbols('t s')\n",
        "V_s, I_s, Omega_s = symbols('V_s I_s Omega_s')\n",
        "R, L, J, B, K = symbols('R L J B K')"
      ],
      "metadata": {
        "id": "tZqTxU1qdvWk"
      },
      "execution_count": 2,
      "outputs": []
    },
    {
      "cell_type": "markdown",
      "source": [
        "# Change Mechanical And Electrical Equation to Laplace Transform\n",
        "\n",
        "1. Change Electrical Equation to Laplace Transform\n",
        "2. Define New Variable (Eb(𝗌) contains K * Ω(𝗌) and I_s expression for Electrical Equation\n",
        "3. Define New Variable mech_eq to solve mechanical equation"
      ],
      "metadata": {
        "id": "cb6eFvVPfBco"
      }
    },
    {
      "cell_type": "code",
      "source": [
        "# Electrical Equation\n",
        "Eb_s = K * Omega_s  # E_b(s) = K * Omega(s)\n",
        "I_s_expr = (V_s - Eb_s) / R  # I(s) = (V(s) - E_b(s)) / R\n",
        "\n",
        "display(\"Electrical equation after Laplace Transform:\", Eq(I_s, I_s_expr))\n",
        "\n",
        "# Mechanical Equation\n",
        "mech_eq = Eq(J * s * Omega_s + B * Omega_s, K * I_s)\n",
        "display(\"Mechanical equation after Laplace Transform:\", mech_eq)"
      ],
      "metadata": {
        "colab": {
          "base_uri": "https://localhost:8080/",
          "height": 109
        },
        "id": "78qZeAIfg4i4",
        "outputId": "0b184971-32e1-465e-d932-99580a035483"
      },
      "execution_count": 4,
      "outputs": [
        {
          "output_type": "display_data",
          "data": {
            "text/plain": [
              "'Electrical equation after Laplace Transform:'"
            ],
            "application/vnd.google.colaboratory.intrinsic+json": {
              "type": "string"
            }
          },
          "metadata": {}
        },
        {
          "output_type": "display_data",
          "data": {
            "text/plain": [
              "     -K⋅Ωₛ + Vₛ\n",
              "Iₛ = ──────────\n",
              "         R     "
            ],
            "text/latex": "$\\displaystyle I_{s} = \\frac{- K \\Omega_{s} + V_{s}}{R}$"
          },
          "metadata": {}
        },
        {
          "output_type": "display_data",
          "data": {
            "text/plain": [
              "'Mechanical equation after Laplace Transform:'"
            ],
            "application/vnd.google.colaboratory.intrinsic+json": {
              "type": "string"
            }
          },
          "metadata": {}
        },
        {
          "output_type": "display_data",
          "data": {
            "text/plain": [
              "B⋅Ωₛ + J⋅Ωₛ⋅s = Iₛ⋅K"
            ],
            "text/latex": "$\\displaystyle B \\Omega_{s} + J \\Omega_{s} s = I_{s} K$"
          },
          "metadata": {}
        }
      ]
    },
    {
      "cell_type": "markdown",
      "source": [
        "# Eliminate Variable Between I(𝗌) and Ω(𝗌)\n",
        "1. Define New Variable for doing substitution I_s and I_s_expr\n",
        "2. Solve Ω(𝗌)"
      ],
      "metadata": {
        "id": "asaBmJ9yhcEA"
      }
    },
    {
      "cell_type": "code",
      "source": [
        "# Step 2: Eliminate Variable Between I(s) and Omega(s)\n",
        "mech_eq_substituted = mech_eq.subs(I_s, I_s_expr)\n",
        "display(\"Mechanical equation after substitution I(s):\", mech_eq_substituted)\n",
        "\n",
        "# Solve Omega(s)\n",
        "Omega_s_solution = solve(mech_eq_substituted, Omega_s)[0]\n",
        "display(\"Omega(s) Solution:\", Eq(Omega_s, Omega_s_solution))"
      ],
      "metadata": {
        "colab": {
          "base_uri": "https://localhost:8080/",
          "height": 125
        },
        "id": "SYqfpybkiYNT",
        "outputId": "7e442bbe-b59b-446a-ff3c-6efe68d934a3"
      },
      "execution_count": 5,
      "outputs": [
        {
          "output_type": "display_data",
          "data": {
            "text/plain": [
              "'Mechanical equation after substitution I(s):'"
            ],
            "application/vnd.google.colaboratory.intrinsic+json": {
              "type": "string"
            }
          },
          "metadata": {}
        },
        {
          "output_type": "display_data",
          "data": {
            "text/plain": [
              "                K⋅(-K⋅Ωₛ + Vₛ)\n",
              "B⋅Ωₛ + J⋅Ωₛ⋅s = ──────────────\n",
              "                      R       "
            ],
            "text/latex": "$\\displaystyle B \\Omega_{s} + J \\Omega_{s} s = \\frac{K \\left(- K \\Omega_{s} + V_{s}\\right)}{R}$"
          },
          "metadata": {}
        },
        {
          "output_type": "display_data",
          "data": {
            "text/plain": [
              "'Omega(s) Solution:'"
            ],
            "application/vnd.google.colaboratory.intrinsic+json": {
              "type": "string"
            }
          },
          "metadata": {}
        },
        {
          "output_type": "display_data",
          "data": {
            "text/plain": [
              "           K⋅Vₛ      \n",
              "Ωₛ = ────────────────\n",
              "                    2\n",
              "     B⋅R + J⋅R⋅s + K "
            ],
            "text/latex": "$\\displaystyle \\Omega_{s} = \\frac{K V_{s}}{B R + J R s + K^{2}}$"
          },
          "metadata": {}
        }
      ]
    },
    {
      "cell_type": "markdown",
      "source": [
        "# Transfer Function\n",
        "1. Define New Variable which is contain simpilfy of omega solution / V(𝗌)\n",
        "2. Make an equation of (Ω / V(𝗌))"
      ],
      "metadata": {
        "id": "B5YrXx1xitN6"
      }
    },
    {
      "cell_type": "code",
      "source": [
        "# Step 3: Transfer Function G(s) = Omega(s) / V(s)\n",
        "G_s = simplify(Omega_s_solution / V_s)\n",
        "display(\"Transfer Function of G(s) = Omega(s) / V(s):\", Eq(Omega_s / V_s, G_s))"
      ],
      "metadata": {
        "colab": {
          "base_uri": "https://localhost:8080/",
          "height": 72
        },
        "id": "CJrF8n9Qjp9W",
        "outputId": "2f95f5d7-2af7-47d1-e3b1-f2851d58a1c6"
      },
      "execution_count": 7,
      "outputs": [
        {
          "output_type": "display_data",
          "data": {
            "text/plain": [
              "'Transfer Function of G(s) = Omega(s) / V(s):'"
            ],
            "application/vnd.google.colaboratory.intrinsic+json": {
              "type": "string"
            }
          },
          "metadata": {}
        },
        {
          "output_type": "display_data",
          "data": {
            "text/plain": [
              "Ωₛ          K        \n",
              "── = ────────────────\n",
              "Vₛ                  2\n",
              "     B⋅R + J⋅R⋅s + K "
            ],
            "text/latex": "$\\displaystyle \\frac{\\Omega_{s}}{V_{s}} = \\frac{K}{B R + J R s + K^{2}}$"
          },
          "metadata": {}
        }
      ]
    },
    {
      "cell_type": "markdown",
      "source": [
        "# Simulation on Matplotlib with control library"
      ],
      "metadata": {
        "id": "jTE9wI5mlKWk"
      }
    },
    {
      "cell_type": "code",
      "source": [
        "pip install control"
      ],
      "metadata": {
        "colab": {
          "base_uri": "https://localhost:8080/"
        },
        "id": "CI0vvIlmk7L4",
        "outputId": "9c60b8c6-6336-4906-b9b5-5f35c85bc99e"
      },
      "execution_count": 9,
      "outputs": [
        {
          "output_type": "stream",
          "name": "stdout",
          "text": [
            "Collecting control\n",
            "  Downloading control-0.10.1-py3-none-any.whl.metadata (7.6 kB)\n",
            "Requirement already satisfied: numpy>=1.23 in /usr/local/lib/python3.11/dist-packages (from control) (1.26.4)\n",
            "Requirement already satisfied: scipy>=1.8 in /usr/local/lib/python3.11/dist-packages (from control) (1.13.1)\n",
            "Requirement already satisfied: matplotlib>=3.6 in /usr/local/lib/python3.11/dist-packages (from control) (3.10.0)\n",
            "Requirement already satisfied: contourpy>=1.0.1 in /usr/local/lib/python3.11/dist-packages (from matplotlib>=3.6->control) (1.3.1)\n",
            "Requirement already satisfied: cycler>=0.10 in /usr/local/lib/python3.11/dist-packages (from matplotlib>=3.6->control) (0.12.1)\n",
            "Requirement already satisfied: fonttools>=4.22.0 in /usr/local/lib/python3.11/dist-packages (from matplotlib>=3.6->control) (4.56.0)\n",
            "Requirement already satisfied: kiwisolver>=1.3.1 in /usr/local/lib/python3.11/dist-packages (from matplotlib>=3.6->control) (1.4.8)\n",
            "Requirement already satisfied: packaging>=20.0 in /usr/local/lib/python3.11/dist-packages (from matplotlib>=3.6->control) (24.2)\n",
            "Requirement already satisfied: pillow>=8 in /usr/local/lib/python3.11/dist-packages (from matplotlib>=3.6->control) (11.1.0)\n",
            "Requirement already satisfied: pyparsing>=2.3.1 in /usr/local/lib/python3.11/dist-packages (from matplotlib>=3.6->control) (3.2.1)\n",
            "Requirement already satisfied: python-dateutil>=2.7 in /usr/local/lib/python3.11/dist-packages (from matplotlib>=3.6->control) (2.8.2)\n",
            "Requirement already satisfied: six>=1.5 in /usr/local/lib/python3.11/dist-packages (from python-dateutil>=2.7->matplotlib>=3.6->control) (1.17.0)\n",
            "Downloading control-0.10.1-py3-none-any.whl (549 kB)\n",
            "\u001b[2K   \u001b[90m━━━━━━━━━━━━━━━━━━━━━━━━━━━━━━━━━━━━━━━━\u001b[0m \u001b[32m549.6/549.6 kB\u001b[0m \u001b[31m7.4 MB/s\u001b[0m eta \u001b[36m0:00:00\u001b[0m\n",
            "\u001b[?25hInstalling collected packages: control\n",
            "Successfully installed control-0.10.1\n"
          ]
        }
      ]
    },
    {
      "cell_type": "code",
      "source": [
        "import numpy as np\n",
        "import matplotlib.pyplot as plt\n",
        "import control as ctrl\n",
        "\n",
        "# Substitusi nilai numerik untuk parameter\n",
        "params = {R: 1.0, J: 0.01, B: 0.1, K: 0.01}  # Contoh nilai numerik\n",
        "G_s_numeric = G_s.subs(params)\n",
        "\n",
        "# Konversi fungsi transfer ke bentuk numerik untuk simulasi\n",
        "num, den = sp.fraction(G_s_numeric)\n",
        "num = sp.Poly(num, s).all_coeffs()\n",
        "den = sp.Poly(den, s).all_coeffs()\n",
        "num = [float(i.evalf()) for i in num]\n",
        "den = [float(i.evalf()) for i in den]\n",
        "\n",
        "# Buat sistem kontrol\n",
        "system = ctrl.TransferFunction(num, den)\n",
        "\n",
        "# Simulasi step response\n",
        "time, response = ctrl.step_response(system)\n"
      ],
      "metadata": {
        "id": "hgKvHLd3KXrt"
      },
      "execution_count": 10,
      "outputs": []
    },
    {
      "cell_type": "code",
      "source": [
        "# Plot hasil\n",
        "plt.figure(figsize=(8, 5))\n",
        "plt.plot(time, response, label='Step Response')\n",
        "plt.xlabel('Time (s)')\n",
        "plt.ylabel('Omega (rad/s)')\n",
        "plt.title('Step Response of the DC Motor')\n",
        "plt.legend()\n",
        "plt.grid()\n",
        "plt.show()"
      ],
      "metadata": {
        "colab": {
          "base_uri": "https://localhost:8080/",
          "height": 487
        },
        "id": "lJw3iNXHKpDH",
        "outputId": "7176dbb6-70ba-4497-bab8-db01e4ed4340"
      },
      "execution_count": null,
      "outputs": [
        {
          "output_type": "display_data",
          "data": {
            "text/plain": [
              "<Figure size 800x500 with 1 Axes>"
            ],
            "image/png": "[encoded data removed]"
          },
          "metadata": {}
        }
      ]
    }
  ]
}